{
 "cells": [
  {
   "cell_type": "code",
   "execution_count": 2,
   "metadata": {},
   "outputs": [
    {
     "ename": "",
     "evalue": "",
     "output_type": "error",
     "traceback": [
      "\u001b[1;31mThe Kernel crashed while executing code in the current cell or a previous cell. \n",
      "\u001b[1;31mPlease review the code in the cell(s) to identify a possible cause of the failure. \n",
      "\u001b[1;31mClick <a href='https://aka.ms/vscodeJupyterKernelCrash'>here</a> for more info. \n",
      "\u001b[1;31mView Jupyter <a href='command:jupyter.viewOutput'>log</a> for further details."
     ]
    }
   ],
   "source": [
    "# Problem Statement\n",
    "# We have customer data\n",
    "# We are trying to predict whether or not given a loan"
   ]
  },
  {
   "cell_type": "markdown",
   "metadata": {},
   "source": [
    "# Banking\n",
    "# Asset = Loan product\n",
    "Housing loan\n",
    "education loan\n",
    "car loan\n",
    "Group loan\n",
    "personal loan\n",
    "credit card"
   ]
  },
  {
   "cell_type": "markdown",
   "metadata": {},
   "source": [
    "# Liability\n",
    "Current account\n",
    "savings account\n",
    "fixed deposit\n",
    "Recurring Deposit\n",
    "\n",
    "with respect to bank"
   ]
  },
  {
   "cell_type": "markdown",
   "metadata": {},
   "source": [
    "# NPA\n",
    "NPA = Non Performing Asset\n",
    "(loan that is defaulted)\n",
    "\n",
    "1. Disbursed amount = Loan amount given to a customer.\n",
    "\n",
    "2. OSP = Outstanding Principle\n",
    "1 Lakh loan, 8000 rupees EMI\n",
    "40000 EMI\n",
    "60000 bakaya = balance = OSP\n",
    "\n",
    "OSP should be 0 at the end of loan cycle\n",
    "\n",
    "Amortization \n",
    "\n",
    "3. DPD = Days past due.\n",
    "DPD ideally should be 0. If not, defaulted.\n",
    "\n",
    "4. PAR = Portfolio at risk\n",
    "OSP when DPD > 0\n",
    "\n",
    "5. NPA\n",
    "loan account when DPD > 90\n",
    "NPA account\n",
    "\n",
    "# Credit risk types in banking:\n",
    "DPD(zero) = NDA (Non delinquint account) = No default account\n",
    "DPD(0-30) = SMA1 (Standard Monitoring Account)\n",
    "DPD(31-60) = SMA2 (Standard Monitoring Account)\n",
    "DPD(61-90) = SMA3 (Standard Monitoring Account)\n",
    "DPD(90-180) = NPA\n",
    "DPD(>180)= Written off (loan which is not present )\n",
    "\n",
    "NPA improve = loan portfolio quality will be better = Market sentiment will be good  = Stock price will improve\n"
   ]
  },
  {
   "cell_type": "markdown",
   "metadata": {},
   "source": [
    "NPA \n",
    "GNPA = Gross NPA (3-5% ) = OSP default\n",
    "NNPA = Net NPA (0.01-0.06%) = Provisioning amount subtracted\n",
    "\n",
    "Bank quality assess , GNPA value\n"
   ]
  },
  {
   "cell_type": "markdown",
   "metadata": {},
   "source": [
    "# Teams involved in DS project\n",
    "1. Data science (ML, NLP, AI developer team)\n",
    "2. MLOPs (Deployment team, AWS, Azure)\n",
    "\n",
    "3. Data Engineering(ETL)\n",
    "(Data Extractor)\n",
    "\n",
    "4. Business Team(marketing, HR, Product,Ops)\n",
    "\n",
    "5. Distribution team (Sales team)\n",
    "Bank brunch"
   ]
  },
  {
   "cell_type": "markdown",
   "metadata": {},
   "source": []
  }
 ],
 "metadata": {
  "kernelspec": {
   "display_name": "genai",
   "language": "python",
   "name": "python3"
  },
  "language_info": {
   "codemirror_mode": {
    "name": "ipython",
    "version": 3
   },
   "file_extension": ".py",
   "mimetype": "text/x-python",
   "name": "python",
   "nbconvert_exporter": "python",
   "pygments_lexer": "ipython3",
   "version": "3.8.19"
  }
 },
 "nbformat": 4,
 "nbformat_minor": 2
}
