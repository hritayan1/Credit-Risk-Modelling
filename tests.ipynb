{
 "cells": [
  {
   "cell_type": "markdown",
   "metadata": {},
   "source": [
    "Chi square Test"
   ]
  },
  {
   "cell_type": "code",
   "execution_count": 1,
   "metadata": {},
   "outputs": [],
   "source": [
    "from scipy.stats import chi2_contingency\n",
    "import pandas as pd"
   ]
  },
  {
   "cell_type": "code",
   "execution_count": 6,
   "metadata": {},
   "outputs": [],
   "source": [
    "# Strong association\n",
    "a = ['cat','cat','cat','cat','dog','dog','dog','dog','tiger','tiger','tiger','tiger']\n",
    "b= ['p1','p1','p1','p1','p2','p2','p2','p2','p3','p3','p3','p3']"
   ]
  },
  {
   "cell_type": "code",
   "execution_count": 7,
   "metadata": {},
   "outputs": [],
   "source": [
    "df_test = pd.DataFrame(\n",
    "    {\n",
    "    'a': a,\n",
    "    'b': b\n",
    "    }\n",
    ")"
   ]
  },
  {
   "cell_type": "code",
   "execution_count": 8,
   "metadata": {},
   "outputs": [],
   "source": [
    "chi2, pval, _, _=chi2_contingency(pd.crosstab(df_test['a'],df_test['b']))"
   ]
  },
  {
   "cell_type": "code",
   "execution_count": 10,
   "metadata": {},
   "outputs": [
    {
     "name": "stdout",
     "output_type": "stream",
     "text": [
      "7.987476059326657e-05\n"
     ]
    }
   ],
   "source": [
    "print(pval)"
   ]
  },
  {
   "cell_type": "markdown",
   "metadata": {},
   "source": [
    "pval <  alpha\n",
    "H0 reject\n",
    "H1 accept\n",
    "C1 and C2 are associated."
   ]
  },
  {
   "cell_type": "code",
   "execution_count": 11,
   "metadata": {},
   "outputs": [],
   "source": [
    "# Weak association\n",
    "a = ['cat','cat','cat','dog','dog','dog','rat','rat','rat']\n",
    "b= ['p1','p1','p3','p1','p2','p3','p1','p2','p3']"
   ]
  },
  {
   "cell_type": "code",
   "execution_count": 12,
   "metadata": {},
   "outputs": [],
   "source": [
    "df_test = pd.DataFrame(\n",
    "    {\n",
    "    'a': a,\n",
    "    'b': b\n",
    "    }\n",
    ")"
   ]
  },
  {
   "cell_type": "code",
   "execution_count": 13,
   "metadata": {},
   "outputs": [],
   "source": [
    "chi2, pval, _, _=chi2_contingency(pd.crosstab(df_test['a'],df_test['b']))"
   ]
  },
  {
   "cell_type": "code",
   "execution_count": 14,
   "metadata": {},
   "outputs": [
    {
     "name": "stdout",
     "output_type": "stream",
     "text": [
      "0.8266414672967757\n"
     ]
    }
   ],
   "source": [
    "print(pval)"
   ]
  },
  {
   "cell_type": "markdown",
   "metadata": {},
   "source": [
    "pval >  alpha\n",
    "H0 is failed to  reject\n",
    "C1 and C2 are not  associated."
   ]
  },
  {
   "cell_type": "markdown",
   "metadata": {},
   "source": [
    "ANOVA"
   ]
  },
  {
   "cell_type": "code",
   "execution_count": 1,
   "metadata": {},
   "outputs": [],
   "source": [
    "from scipy.stats import f_oneway"
   ]
  },
  {
   "cell_type": "code",
   "execution_count": 2,
   "metadata": {},
   "outputs": [],
   "source": [
    "# Strong association\n",
    "a = [10,10,11,20,20,20,30,30,30]\n",
    "b = ['p1','p1','p1','p2','p2','p2','p3','p3','p3']"
   ]
  },
  {
   "cell_type": "code",
   "execution_count": 3,
   "metadata": {},
   "outputs": [],
   "source": [
    "group_p1 = [value for value, group in zip(a,b) if group == 'p1']\n",
    "group_p2 = [value for value, group in zip(a,b) if group == 'p2']\n",
    "group_p3 = [value for value, group in zip(a,b) if group == 'p3']"
   ]
  },
  {
   "cell_type": "code",
   "execution_count": 4,
   "metadata": {},
   "outputs": [
    {
     "name": "stdout",
     "output_type": "stream",
     "text": [
      "P-value: 1.511635262873079e-09\n"
     ]
    }
   ],
   "source": [
    "f_statistic, p_value = f_oneway(group_p1,group_p2,group_p3)\n",
    "print(f\"P-value: {p_value}\")"
   ]
  },
  {
   "cell_type": "markdown",
   "metadata": {},
   "source": [
    "p-value < 0.05\n",
    "There is an association"
   ]
  },
  {
   "cell_type": "code",
   "execution_count": 5,
   "metadata": {},
   "outputs": [],
   "source": [
    "# Weak association\n",
    "a = [10, 10, 15, 10, 10, 15, 10, 10, 25]\n",
    "b = ['p1','p1','p1','p2','p2','p2','p3','p3','p3']"
   ]
  },
  {
   "cell_type": "code",
   "execution_count": 6,
   "metadata": {},
   "outputs": [],
   "source": [
    "group_p1 = [value for value, group in zip(a,b) if group == 'p1']\n",
    "group_p2 = [value for value, group in zip(a,b) if group == 'p2']\n",
    "group_p3 = [value for value, group in zip(a,b) if group == 'p3']"
   ]
  },
  {
   "cell_type": "code",
   "execution_count": 7,
   "metadata": {},
   "outputs": [
    {
     "name": "stdout",
     "output_type": "stream",
     "text": [
      "P-value: 0.7094742660849308\n"
     ]
    }
   ],
   "source": [
    "f_statistic, p_value = f_oneway(group_p1,group_p2,group_p3)\n",
    "print(f\"P-value: {p_value}\")"
   ]
  },
  {
   "cell_type": "markdown",
   "metadata": {},
   "source": [
    "p value > 0.05\n",
    "We fail to reject H0.\n",
    "There is no association."
   ]
  }
 ],
 "metadata": {
  "kernelspec": {
   "display_name": "genai",
   "language": "python",
   "name": "python3"
  },
  "language_info": {
   "codemirror_mode": {
    "name": "ipython",
    "version": 3
   },
   "file_extension": ".py",
   "mimetype": "text/x-python",
   "name": "python",
   "nbconvert_exporter": "python",
   "pygments_lexer": "ipython3",
   "version": "3.8.19"
  }
 },
 "nbformat": 4,
 "nbformat_minor": 2
}
